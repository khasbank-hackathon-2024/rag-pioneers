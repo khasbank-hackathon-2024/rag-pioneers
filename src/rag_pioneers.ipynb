{
 "cells": [
  {
   "cell_type": "markdown",
   "metadata": {},
   "source": [
    "# RAG - Pioneers\n",
    "![](https://python.langchain.com/assets/images/rag_concepts-4499b260d1053838a3e361fb54f376ec.png)"
   ]
  },
  {
   "cell_type": "markdown",
   "metadata": {},
   "source": [
    "Together ai-аас хэлний загвар ашигласан."
   ]
  },
  {
   "cell_type": "code",
   "execution_count": 1,
   "metadata": {},
   "outputs": [
    {
     "name": "stdout",
     "output_type": "stream",
     "text": [
      "\u001b[33mWARNING: Running pip as the 'root' user can result in broken permissions and conflicting behaviour with the system package manager. It is recommended to use a virtual environment instead: https://pip.pypa.io/warnings/venv\u001b[0m\u001b[33m\n",
      "\u001b[0m"
     ]
    }
   ],
   "source": [
    "!pip install -qU langchain-openai"
   ]
  },
  {
   "cell_type": "code",
   "execution_count": 2,
   "metadata": {},
   "outputs": [],
   "source": [
    "%%capture\n",
    "!pip install openai==1.55.3 httpx==0.27.2 --force-reinstall --quiet"
   ]
  },
  {
   "cell_type": "code",
   "execution_count": null,
   "metadata": {},
   "outputs": [],
   "source": [
    "import os\n",
    "os.kill(os.getpid(), 9)"
   ]
  },
  {
   "cell_type": "code",
   "execution_count": 1,
   "metadata": {
    "scrolled": true
   },
   "outputs": [
    {
     "name": "stdout",
     "output_type": "stream",
     "text": [
      "Requirement already satisfied: langgraph in /usr/local/lib/python3.10/dist-packages (0.2.56)\n",
      "Requirement already satisfied: langgraph-checkpoint<3.0.0,>=2.0.4 in /usr/local/lib/python3.10/dist-packages (from langgraph) (2.0.8)\n",
      "Requirement already satisfied: langgraph-sdk<0.2.0,>=0.1.42 in /usr/local/lib/python3.10/dist-packages (from langgraph) (0.1.43)\n",
      "Requirement already satisfied: langchain-core!=0.3.0,!=0.3.1,!=0.3.10,!=0.3.11,!=0.3.12,!=0.3.13,!=0.3.14,!=0.3.2,!=0.3.3,!=0.3.4,!=0.3.5,!=0.3.6,!=0.3.7,!=0.3.8,!=0.3.9,<0.4.0,>=0.2.43 in /usr/local/lib/python3.10/dist-packages (from langgraph) (0.3.22)\n",
      "Requirement already satisfied: typing-extensions>=4.7 in /usr/local/lib/python3.10/dist-packages (from langchain-core!=0.3.0,!=0.3.1,!=0.3.10,!=0.3.11,!=0.3.12,!=0.3.13,!=0.3.14,!=0.3.2,!=0.3.3,!=0.3.4,!=0.3.5,!=0.3.6,!=0.3.7,!=0.3.8,!=0.3.9,<0.4.0,>=0.2.43->langgraph) (4.12.2)\n",
      "Requirement already satisfied: pydantic<3.0.0,>=2.5.2 in /usr/local/lib/python3.10/dist-packages (from langchain-core!=0.3.0,!=0.3.1,!=0.3.10,!=0.3.11,!=0.3.12,!=0.3.13,!=0.3.14,!=0.3.2,!=0.3.3,!=0.3.4,!=0.3.5,!=0.3.6,!=0.3.7,!=0.3.8,!=0.3.9,<0.4.0,>=0.2.43->langgraph) (2.10.3)\n",
      "Requirement already satisfied: PyYAML>=5.3 in /usr/lib/python3/dist-packages (from langchain-core!=0.3.0,!=0.3.1,!=0.3.10,!=0.3.11,!=0.3.12,!=0.3.13,!=0.3.14,!=0.3.2,!=0.3.3,!=0.3.4,!=0.3.5,!=0.3.6,!=0.3.7,!=0.3.8,!=0.3.9,<0.4.0,>=0.2.43->langgraph) (5.4.1)\n",
      "Requirement already satisfied: packaging<25,>=23.2 in /usr/local/lib/python3.10/dist-packages (from langchain-core!=0.3.0,!=0.3.1,!=0.3.10,!=0.3.11,!=0.3.12,!=0.3.13,!=0.3.14,!=0.3.2,!=0.3.3,!=0.3.4,!=0.3.5,!=0.3.6,!=0.3.7,!=0.3.8,!=0.3.9,<0.4.0,>=0.2.43->langgraph) (24.2)\n",
      "Requirement already satisfied: tenacity!=8.4.0,<10.0.0,>=8.1.0 in /usr/local/lib/python3.10/dist-packages (from langchain-core!=0.3.0,!=0.3.1,!=0.3.10,!=0.3.11,!=0.3.12,!=0.3.13,!=0.3.14,!=0.3.2,!=0.3.3,!=0.3.4,!=0.3.5,!=0.3.6,!=0.3.7,!=0.3.8,!=0.3.9,<0.4.0,>=0.2.43->langgraph) (9.0.0)\n",
      "Requirement already satisfied: langsmith<0.2.0,>=0.1.125 in /usr/local/lib/python3.10/dist-packages (from langchain-core!=0.3.0,!=0.3.1,!=0.3.10,!=0.3.11,!=0.3.12,!=0.3.13,!=0.3.14,!=0.3.2,!=0.3.3,!=0.3.4,!=0.3.5,!=0.3.6,!=0.3.7,!=0.3.8,!=0.3.9,<0.4.0,>=0.2.43->langgraph) (0.1.147)\n",
      "Requirement already satisfied: jsonpatch<2.0,>=1.33 in /usr/local/lib/python3.10/dist-packages (from langchain-core!=0.3.0,!=0.3.1,!=0.3.10,!=0.3.11,!=0.3.12,!=0.3.13,!=0.3.14,!=0.3.2,!=0.3.3,!=0.3.4,!=0.3.5,!=0.3.6,!=0.3.7,!=0.3.8,!=0.3.9,<0.4.0,>=0.2.43->langgraph) (1.33)\n",
      "Requirement already satisfied: msgpack<2.0.0,>=1.1.0 in /usr/local/lib/python3.10/dist-packages (from langgraph-checkpoint<3.0.0,>=2.0.4->langgraph) (1.1.0)\n",
      "Requirement already satisfied: orjson>=3.10.1 in /usr/local/lib/python3.10/dist-packages (from langgraph-sdk<0.2.0,>=0.1.42->langgraph) (3.10.12)\n",
      "Requirement already satisfied: httpx>=0.25.2 in /usr/local/lib/python3.10/dist-packages (from langgraph-sdk<0.2.0,>=0.1.42->langgraph) (0.27.2)\n",
      "Requirement already satisfied: certifi in /usr/local/lib/python3.10/dist-packages (from httpx>=0.25.2->langgraph-sdk<0.2.0,>=0.1.42->langgraph) (2024.8.30)\n",
      "Requirement already satisfied: idna in /usr/local/lib/python3.10/dist-packages (from httpx>=0.25.2->langgraph-sdk<0.2.0,>=0.1.42->langgraph) (3.10)\n",
      "Requirement already satisfied: sniffio in /usr/local/lib/python3.10/dist-packages (from httpx>=0.25.2->langgraph-sdk<0.2.0,>=0.1.42->langgraph) (1.3.1)\n",
      "Requirement already satisfied: anyio in /usr/local/lib/python3.10/dist-packages (from httpx>=0.25.2->langgraph-sdk<0.2.0,>=0.1.42->langgraph) (4.7.0)\n",
      "Requirement already satisfied: httpcore==1.* in /usr/local/lib/python3.10/dist-packages (from httpx>=0.25.2->langgraph-sdk<0.2.0,>=0.1.42->langgraph) (1.0.7)\n",
      "Requirement already satisfied: h11<0.15,>=0.13 in /usr/local/lib/python3.10/dist-packages (from httpcore==1.*->httpx>=0.25.2->langgraph-sdk<0.2.0,>=0.1.42->langgraph) (0.14.0)\n",
      "Requirement already satisfied: jsonpointer>=1.9 in /usr/lib/python3/dist-packages (from jsonpatch<2.0,>=1.33->langchain-core!=0.3.0,!=0.3.1,!=0.3.10,!=0.3.11,!=0.3.12,!=0.3.13,!=0.3.14,!=0.3.2,!=0.3.3,!=0.3.4,!=0.3.5,!=0.3.6,!=0.3.7,!=0.3.8,!=0.3.9,<0.4.0,>=0.2.43->langgraph) (2.0)\n",
      "Requirement already satisfied: requests-toolbelt<2.0.0,>=1.0.0 in /usr/local/lib/python3.10/dist-packages (from langsmith<0.2.0,>=0.1.125->langchain-core!=0.3.0,!=0.3.1,!=0.3.10,!=0.3.11,!=0.3.12,!=0.3.13,!=0.3.14,!=0.3.2,!=0.3.3,!=0.3.4,!=0.3.5,!=0.3.6,!=0.3.7,!=0.3.8,!=0.3.9,<0.4.0,>=0.2.43->langgraph) (1.0.0)\n",
      "Requirement already satisfied: requests<3,>=2 in /usr/local/lib/python3.10/dist-packages (from langsmith<0.2.0,>=0.1.125->langchain-core!=0.3.0,!=0.3.1,!=0.3.10,!=0.3.11,!=0.3.12,!=0.3.13,!=0.3.14,!=0.3.2,!=0.3.3,!=0.3.4,!=0.3.5,!=0.3.6,!=0.3.7,!=0.3.8,!=0.3.9,<0.4.0,>=0.2.43->langgraph) (2.32.3)\n",
      "Requirement already satisfied: pydantic-core==2.27.1 in /usr/local/lib/python3.10/dist-packages (from pydantic<3.0.0,>=2.5.2->langchain-core!=0.3.0,!=0.3.1,!=0.3.10,!=0.3.11,!=0.3.12,!=0.3.13,!=0.3.14,!=0.3.2,!=0.3.3,!=0.3.4,!=0.3.5,!=0.3.6,!=0.3.7,!=0.3.8,!=0.3.9,<0.4.0,>=0.2.43->langgraph) (2.27.1)\n",
      "Requirement already satisfied: annotated-types>=0.6.0 in /usr/local/lib/python3.10/dist-packages (from pydantic<3.0.0,>=2.5.2->langchain-core!=0.3.0,!=0.3.1,!=0.3.10,!=0.3.11,!=0.3.12,!=0.3.13,!=0.3.14,!=0.3.2,!=0.3.3,!=0.3.4,!=0.3.5,!=0.3.6,!=0.3.7,!=0.3.8,!=0.3.9,<0.4.0,>=0.2.43->langgraph) (0.7.0)\n",
      "Requirement already satisfied: charset-normalizer<4,>=2 in /usr/local/lib/python3.10/dist-packages (from requests<3,>=2->langsmith<0.2.0,>=0.1.125->langchain-core!=0.3.0,!=0.3.1,!=0.3.10,!=0.3.11,!=0.3.12,!=0.3.13,!=0.3.14,!=0.3.2,!=0.3.3,!=0.3.4,!=0.3.5,!=0.3.6,!=0.3.7,!=0.3.8,!=0.3.9,<0.4.0,>=0.2.43->langgraph) (3.4.0)\n",
      "Requirement already satisfied: urllib3<3,>=1.21.1 in /usr/lib/python3/dist-packages (from requests<3,>=2->langsmith<0.2.0,>=0.1.125->langchain-core!=0.3.0,!=0.3.1,!=0.3.10,!=0.3.11,!=0.3.12,!=0.3.13,!=0.3.14,!=0.3.2,!=0.3.3,!=0.3.4,!=0.3.5,!=0.3.6,!=0.3.7,!=0.3.8,!=0.3.9,<0.4.0,>=0.2.43->langgraph) (1.26.5)\n",
      "Requirement already satisfied: exceptiongroup>=1.0.2 in /usr/local/lib/python3.10/dist-packages (from anyio->httpx>=0.25.2->langgraph-sdk<0.2.0,>=0.1.42->langgraph) (1.2.2)\n",
      "\u001b[33mWARNING: Running pip as the 'root' user can result in broken permissions and conflicting behaviour with the system package manager. It is recommended to use a virtual environment instead: https://pip.pypa.io/warnings/venv\u001b[0m\u001b[33m\n",
      "Note: you may need to restart the kernel to use updated packages.\n"
     ]
    }
   ],
   "source": [
    "%pip install langgraph\n"
   ]
  },
  {
   "cell_type": "code",
   "execution_count": 2,
   "metadata": {},
   "outputs": [],
   "source": [
    "import torch\n",
    "from langchain.chains import create_retrieval_chain\n",
    "from langchain.chains.combine_documents import create_stuff_documents_chain\n",
    "from langchain.text_splitter import RecursiveCharacterTextSplitter\n",
    "from langchain_community.document_loaders.csv_loader import CSVLoader\n",
    "from langchain_community.vectorstores import FAISS\n",
    "from langchain_core.prompts import ChatPromptTemplate\n",
    "from langchain_huggingface import HuggingFaceEmbeddings, HuggingFacePipeline\n",
    "from transformers import AutoModelForCausalLM, AutoTokenizer, pipeline\n",
    "from langchain_community.document_loaders import TextLoader"
   ]
  },
  {
   "cell_type": "markdown",
   "metadata": {},
   "source": [
    "## Vector Store үүсгэлт\n",
    "RAG систем сайн хариу өгөхийн тулд хоёр зүйл маш чухал байгаа юм. \n",
    "\n",
    "Нэг: Асуултанд харгалзах зөв өгөгдлөө ретрив хийсэн эсэх\n",
    "\n",
    "Хоёр : LLM загвар промптоор ирсэн өгөгдөл болон асуултыг ашиглан зөв хариулт боловсруулж байгаа эсэх (холбогдох зөв өгөгдөлд төвлөрч чадаж байгаа эсэх)\n",
    "\n",
    "Тиймээс бүх өгөгдлөө ганц вектор санд хадгалж түүнээс хайлт хийх нь буруу өгөгдлийг ретрив хийж авах магадлалыг нэмэгдүүлж байна. \n",
    "\n",
    " Өөрөөр хэлбэл бид өгөгдлүүдээ ангилж өөр өөр вектор сан үүсгээд хадгалсан. Жишээ нь: салбарын мэдээлэлтэй холбоотой өгөгдлүүдээ өөр тусад нь хадгалах гэх мэт\n",
    "![](https://miro.medium.com/v2/resize:fit:1100/format:webp/1*vAvDBIbr8MnL_Q51mBtBhw.png)"
   ]
  },
  {
   "cell_type": "markdown",
   "metadata": {},
   "source": [
    "### Өгөгдөл унших\n",
    "\n",
    "`data` хавтсанд байрлах `csv` файлыг уншиж LangChain [Document](https://python.langchain.com/api_reference/core/documents/langchain_core.documents.base.Document.html)-н жагсаалт болгоно.\n",
    "\n",
    "- `khas_bank_news.csv`\n",
    "- `khas_bank_pages.csv`\n",
    "- `khas_bank_products.csv`"
   ]
  },
  {
   "cell_type": "markdown",
   "metadata": {},
   "source": [
    "### Нэмж салбарын мэдээлэл орууллаа."
   ]
  },
  {
   "cell_type": "code",
   "execution_count": 80,
   "metadata": {
    "scrolled": true
   },
   "outputs": [
    {
     "name": "stdout",
     "output_type": "stream",
     "text": [
      "664 71 50\n",
      "Нийт хуудасны тоо: 785\n",
      "page_content='content: бидний тухай\n",
      "хасбанк 2001 онд байгууллагдсан цагаасаа монгол улсын банк санхүүгийн системд тогтвортой өсөлтийг бий болгож, үйл ажиллагаагаа өргөтгөж ирсэн бөгөөд өдгөө банкны системд нөлөө бүхий 5 банкны нэг болоод байна.\n",
      "банкны хэтийн зорилт болон үнэт зүйлс\n",
      "бидний хэтийн зорилт\n",
      "•\n",
      "бид монголдоо дэлхийн түвшний санхүүгийн үйлчилгээтэй байгууллага болно.\n",
      "бидний үнэт зүйлс\n",
      "хүртээмжтэй\n",
      "санаачилгатай\n",
      "нийгмийн хариуцлагатай\n",
      "харилцагч төвтэй\n",
      "эрч хүчтэй\n",
      "мэргэжлийн\n",
      "бидний түүх\n",
      "компанийн засаглал, нийгмийн хариуцлагын хүрээнд авч хэрэгжүүлж буй арга хэмжээгээрээ салбартаа жишиг тогтоож буй хасбанк нь эх дэлхий, эрдэнэт хүмүүн, эрүүл ашгийг эрхэмлэсэн, санхүүгийн зах зээлд манлайлах үйлчилгээтэй тэргүүлэгч банк байх эрхэм зорилгыг өмнөө тавин монгол орон даяар үйл ажиллагаа явуулж буй 71 салбар нэгж, бизнес үйлчилгээний төвүүд, тэдгээрт ажиллаж буй 1,152 мэргэшсэн ажилтан, 8,000 гаруй мерчант, 360 гаруй атм-аар дамжуулан 1 сая харилцагчдадаа санхүүгийн цогц үйлчилгээг хамгийн сүүлийн үеийн дэвшилтэт технологийг ашиглан, нэр төртэйгээр хурдан шуурхай хүргэж байна.\n",
      "бидний амжилт\n",
      "харилцагч төвтэй үйлчилгээг эрхэмлэж, олон улсын банк, санхүүгийн тэргүүн туршлага, орчин үеийн технологийн дэвшлийг хамгийн түрүүнд нэвтрүүлэгч байхыг зорин ажиллаж, тогтвортой болон ил тод үйл ажиллагааг чухалчилан, өсөлт хөгжилд тэмүүлсэн харилцагчдынхаа эрэлт, хэрэгцээнд тохирсон санхүүгийн үйчилгээг саадгүй хүргэж ирсэн нь хасбанкыг монгол улсдаа төдийгүй дэлхий дахинд хүлээн зөвшөөрөгдсөн санхүүгийн байгууллага болохыг нотолж, 2013 онд global banking and finance review awards-аас монгол улсын “шилдэг иргэдийн банк”, 2013, 2016, 2017, 2019 онуудад the banker сэтгүүлээс “монгол улсын шилдэг банк”, 2014, 2016, 2017, 2018 онуудад global finance сэтгүүлээс “монгол улсын шилдэг банк”, capital finance international сэтгүүлээс “ази тивийн шилдэг засаглалтай компани”, global banking and finance review awards-аас “ждб-ийг дэмжигч шилдэг банк” мөн asia money сэтгүүлээс \"ждб эрхлэгчдэд ээлтэй банк\" шагналуудыг тус тус хүртсэн.' metadata={'source': 'https://www.xacbank.mn/page/about', 'row': 1, 'title': 'бидний тухай', 'link': 'https://www.xacbank.mn/page/about'}\n"
     ]
    }
   ],
   "source": [
    "DATA_DIR = \"../data/\"\n",
    "loader = CSVLoader(file_path=f\"{DATA_DIR}khas_bank_news.csv\",\n",
    "                   source_column=\"link\",\n",
    "                   metadata_columns=[\"title\", \"date\", \"link\"],\n",
    "                   content_columns=[\"content\"],\n",
    "                   csv_args={\n",
    "                       \"fieldnames\": [\"title\", \"link\", \"date\", \"content\"],\n",
    "                       }\n",
    "                   )\n",
    "news_data = loader.load()[1:]\n",
    "\n",
    "loader = CSVLoader(file_path=f\"{DATA_DIR}khas_bank_products_2.csv\",\n",
    "                   source_column=\"link\",\n",
    "                   metadata_columns=[\"id\", \"side_menu_text\", \"link\"],\n",
    "                   content_columns=[\"content\"],\n",
    "                   csv_args={\n",
    "                       \"fieldnames\": [\"id\", \"content\", \"side_menu_text\", \"link\"],\n",
    "                       }\n",
    "                   )\n",
    "product_data = loader.load()[1:]\n",
    "\n",
    "loader = CSVLoader(file_path=f\"{DATA_DIR}khas_bank_pages_zasvar.csv\",\n",
    "                   source_column=\"link\",\n",
    "                   metadata_columns=[\"title\", \"link\"],\n",
    "                   content_columns=[\"content\"],\n",
    "                   csv_args={\n",
    "                       \"fieldnames\": [\"title\", \"content\", \"link\"],\n",
    "                       }\n",
    "                   )\n",
    "pages_data = loader.load()[1:]\n",
    "\n",
    "from langchain_community.document_loaders import TextLoader\n",
    "loader = TextLoader(file_path=f\"{DATA_DIR}branch.txt\")\n",
    "branch_data = loader.load()\n",
    "\n",
    "# loader.load()\n",
    "all_data = pages_data + product_data + news_data # + branch_data\n",
    "print(len(news_data), len(product_data), len(pages_data))\n",
    "print(f\"Нийт хуудасны тоо: {len(all_data)}\")\n",
    "print(all_data[0])"
   ]
  },
  {
   "cell_type": "code",
   "execution_count": 93,
   "metadata": {
    "scrolled": true
   },
   "outputs": [],
   "source": [
    "# from langchain_community.document_loaders import TextLoader\n",
    "# loader = TextLoader(file_path=f\"{DATA_DIR}branch.txt\")\n",
    "# loader.load()"
   ]
  },
  {
   "cell_type": "code",
   "execution_count": 62,
   "metadata": {},
   "outputs": [],
   "source": [
    "# branch_data = loader.load()"
   ]
  },
  {
   "cell_type": "markdown",
   "metadata": {},
   "source": [
    "### Өгөгдөл хуваах\n",
    "Өгөгдлүүдээ хамааралтай хэсгүүдээр нь хуваасан.\n",
    "\n",
    "Салбарын мэдээллийг 300 Chunk size-тай гэх мэтээр"
   ]
  },
  {
   "cell_type": "markdown",
   "metadata": {},
   "source": [
    "### chunk size\n",
    "Хэрэглэх гэж буй эмбэддинг загварынхаа оролтын max_sequence уртаас хамаарч chunk хэмжээгээ сонгох нь хамгийн зөв сонголт болох юм. Учир нь chunk хэмжээ нь загварынхаа оролтын уртаас хэтрэсэн тохиолдолд эмбэддинг загварууд оролтын дарааллыг зөвшөөрөгдсөн хамгийн их дарааллын урт хүртэл багасгадаг. Энэ нь хязгаараас хэтэрсэн токеныг үл тоомсорлох болно гэсэн үг.\n",
    "\n",
    "Энэ нь текстийн чухал хэсгүүдийг тасласан тохиолдолд чухал мэдээлэл алдагдах юм."
   ]
  },
  {
   "cell_type": "code",
   "execution_count": 81,
   "metadata": {},
   "outputs": [],
   "source": [
    "from langchain.schema import Document\n",
    "\n",
    "all_data = [\n",
    "    Document(page_content=doc.page_content.lower(), metadata=doc.metadata)\n",
    "    for doc in all_data\n",
    "]\n"
   ]
  },
  {
   "cell_type": "code",
   "execution_count": 82,
   "metadata": {},
   "outputs": [],
   "source": [
    "product_data = [\n",
    "    Document(page_content=doc.page_content.lower(), metadata=doc.metadata)\n",
    "    for doc in product_data\n",
    "]"
   ]
  },
  {
   "cell_type": "code",
   "execution_count": 83,
   "metadata": {},
   "outputs": [],
   "source": [
    "branch_data = [\n",
    "    Document(page_content=doc.page_content.lower(), metadata=doc.metadata)\n",
    "    for doc in branch_data\n",
    "]\n"
   ]
  },
  {
   "cell_type": "code",
   "execution_count": 84,
   "metadata": {},
   "outputs": [],
   "source": [
    "MARKDOWN_SEPARATORS = [\n",
    "    \"\\n\\n\",\n",
    "    \"\",\n",
    "]\n",
    "\n",
    "text_splitter = RecursiveCharacterTextSplitter(\n",
    "    chunk_size=500,  # The maximum number of characters in a chunk: we selected this value arbitrarily\n",
    "    chunk_overlap=100,  # The number of characters to overlap between chunks\n",
    "    # add_start_index=True,  # If `True`, includes chunk's start index in metadata\n",
    "    strip_whitespace=True,  # If `True`, strips whitespace from the start and end of every document\n",
    "    separators=MARKDOWN_SEPARATORS,\n",
    ")\n",
    "\n",
    "docs = text_splitter.split_documents(documents=all_data)"
   ]
  },
  {
   "cell_type": "code",
   "execution_count": 85,
   "metadata": {},
   "outputs": [],
   "source": [
    "#chunk_size = 500\n",
    "MARKDOWN_SEPARATORS = [\n",
    "    \"\\n\\n\",\n",
    "    \"\",\n",
    "]\n",
    "\n",
    "text_splitter_product = RecursiveCharacterTextSplitter(\n",
    "    chunk_size=1000,  # The maximum number of characters in a chunk: we selected this value arbitrarily\n",
    "    chunk_overlap=200,  # The number of characters to overlap between chunks\n",
    "    # add_start_index=True,  # If `True`, includes chunk's start index in metadata\n",
    "    strip_whitespace=True,  # If `True`, strips whitespace from the start and end of every document\n",
    "    separators=MARKDOWN_SEPARATORS,\n",
    ")\n",
    "\n",
    "product_docs = text_splitter.split_documents(documents=product_data)"
   ]
  },
  {
   "cell_type": "code",
   "execution_count": 86,
   "metadata": {},
   "outputs": [],
   "source": [
    "text_splitter_branch = RecursiveCharacterTextSplitter(\n",
    "    chunk_size=300, chunk_overlap=100,\n",
    "    separators = [\n",
    "        '\\n\\n',\n",
    "        \"\\n\"\n",
    "    ]\n",
    ")\n",
    "branch_docs = text_splitter_branch.split_documents(documents=branch_data)"
   ]
  },
  {
   "cell_type": "code",
   "execution_count": 87,
   "metadata": {},
   "outputs": [
    {
     "data": {
      "text/plain": [
       "Document(metadata={'source': 'https://www.xacbank.mn/page/award', 'row': 3, 'title': 'шагнал урамшуулал', 'link': 'https://www.xacbank.mn/page/award'}, page_content='гжилд бодитой хувь нэмрээ оруулж буй шилдэг аж ахуйн нэгж, бизнес эрхлэгчдийг шалгаруулан өргөмжилдөг “entrepreneur” ёслолын ажиллагаанаас банкны салбарын 2013 оны онцлох энтрепренерээр шалгаран “хүрэл меркури” цом хүртлээ.\\nнийслэлийн 374 жилийн ойн өдрийг тохиолдуулан нитх, монголын сурагчдын холбоо хамтран нийслэлийн хүүхдийн сайн сайхны төлөө хийсэн бодитой ажил, санал санаачлагыг үнэлж сурагчдын дунд явуулсан судалгааг үндэслэж “нийслэлийн хүүхдэд ээлтэй шилдэг байгууллага”-аар хасбанкийг ша')"
      ]
     },
     "execution_count": 87,
     "metadata": {},
     "output_type": "execute_result"
    }
   ],
   "source": [
    "docs[50]"
   ]
  },
  {
   "cell_type": "code",
   "execution_count": 12,
   "metadata": {},
   "outputs": [],
   "source": [
    "# # sentence-transformers/paraphrase-multilingual-MiniLM-L12-v2\n",
    "from sentence_transformers import SentenceTransformer"
   ]
  },
  {
   "cell_type": "markdown",
   "metadata": {},
   "source": [
    "### Embedding\n",
    "\n",
    "Embedding нь энгийн үгээр ямар нэгэн өгөгдлийг вектор дүрслэл рүү хөрвүүлсэн хэлбэр бөгөөд тухайн вектор нь олон хэмжээст огторгуйд ижил, төстэй утга бүхий өгөгдөлтэй ойр, эсрэг утгатай өгөгдлөөс хол байрладаг.\n",
    "\n",
    "Энэхүү жишээ RAG-д [`sentence-transformers/paraphrase-multilingual-MiniLM-L12-v2`](https://huggingface.co/sentence-transformers/paraphrase-multilingual-MiniLM-L12-v2) загварыг сонгон авлаа.\n",
    "\n",
    "![embedding model](https://python.langchain.com/assets/images/embeddings_concept-975a9aaba52de05b457a1aeff9a7393a.png)"
   ]
  },
  {
   "cell_type": "code",
   "execution_count": 88,
   "metadata": {},
   "outputs": [],
   "source": [
    "embeddings = HuggingFaceEmbeddings(model_name=\"sentence-transformers/paraphrase-multilingual-MiniLM-L12-v2\")\n",
    "# embeddings = HuggingFaceEmbeddings(model_name=\"bayartsogt/mongolian-roberta-base\")\n",
    "# embeddings = HuggingFaceEmbeddings(model_name=\"distiluse-base-multilingual-cased-v2\")"
   ]
  },
  {
   "cell_type": "code",
   "execution_count": null,
   "metadata": {},
   "outputs": [],
   "source": [
    "!pip install sentence_transformers"
   ]
  },
  {
   "cell_type": "markdown",
   "metadata": {},
   "source": [
    "### Vector Store\n",
    "\n",
    "Харин vector store нь embedding болон өгөгдөл эсвэл түүний заагчийг хамтад нь хадгалж, хайлтын query орж ирэхэд мөн түүнийг вектор хэлбэрт хөрвүүлэн, санд байх векторуудаас хамгийн ойрыг хайдаг өгөгдлийн сан юм.\n",
    "\n",
    "Энэхүү жишээнд FAISS vector store сонгож ашиглалаа.\n",
    "\n",
    "![vectorestore](https://python.langchain.com/assets/images/vectorstores-2540b4bc355b966c99b0f02cfdddb273.png)"
   ]
  },
  {
   "cell_type": "code",
   "execution_count": 89,
   "metadata": {},
   "outputs": [],
   "source": [
    "# Бүх document-с embedding үүсгэж, vector store-д хадгалах\n",
    "# (өмнө нь үүсгэсэн бол заавал дахин үүсгэх шаардлагагүй, доорх load_local функцээр хадгалсан файлаас уншиж болно)\n",
    "vector_store = FAISS.from_documents(docs, embeddings)\n",
    "vector_store.save_local(\"faiss_index\")\n",
    "branch_store = FAISS.from_documents(branch_docs, embeddings)\n",
    "branch_store.save_local(\"faiss_branch\")\n",
    "product_store = FAISS.from_documents(product_docs, embeddings)\n",
    "product_store.save_local(\"faiss_product\")"
   ]
  },
  {
   "cell_type": "code",
   "execution_count": 90,
   "metadata": {},
   "outputs": [],
   "source": [
    "# Үүсгэсэн vector store-г файлаас унших\n",
    "vector_store = FAISS.load_local(\n",
    "    \"faiss_index\", embeddings, allow_dangerous_deserialization=True\n",
    ")\n",
    "branch_store = FAISS.load_local(\n",
    "    \"faiss_branch\", embeddings, allow_dangerous_deserialization=True\n",
    ")\n",
    "product_store = FAISS.load_local( \n",
    "    \"faiss_product\", embeddings, allow_dangerous_deserialization=True\n",
    ")"
   ]
  },
  {
   "cell_type": "code",
   "execution_count": 91,
   "metadata": {},
   "outputs": [
    {
     "data": {
      "text/plain": [
       "[Document(metadata={'source': '../data/branch.txt'}, page_content='сүхбаатар салбар нь сүхбаатар дүүрэг, 7-р хороо, эрхүүгийн гудамж, ориент төвийн 1-р давхарт байрладаг. даваа - баасан: 8:30-16:30 цагийн хооронд ажиллах ба бямба, ням: амарна, холбогдох дугаар 1800-1888.'),\n",
       " Document(metadata={'source': '../data/branch.txt'}, page_content='төв салбар нь сүхбаатар дүүрэг, энхтайваны өргөн чөлөө, чингүнжавын гудамж-30-д байрладаг. даваа - баасан: 8:30-16:30 цагийн хооронд ажиллах ба бямба, ням: амарна, холбогдох дугаар 1800-1888.'),\n",
       " Document(metadata={'source': '../data/branch.txt'}, page_content='төв талбай салбар нь сүхбаатар дүүрэг, 8-р хороо, ерөнхий сайд амарын гудамж, хасбанкны төв байр байрладаг. даваа - баасан: 8:30-16:30 цагийн хооронд ажиллах ба бямба, ням: амарна, холбогдох дугаар 1800-1888.'),\n",
       " Document(metadata={'source': '../data/branch.txt'}, page_content='цогтцэций тооцооны төв нь цогтцэций сум, цэций баг, хасбанкны байрлалд байрладаг. даваа - баасан: 8:30-16:30 цагийн хооронд ажиллах ба бямба, ням: амарна, холбогдох дугаар 1800-1888.'),\n",
       " Document(metadata={'source': '../data/branch.txt'}, page_content='сэлэнгэ салбар нь сүхбаатар сум, 6-р баг, хасбанкны байр /гурван мэргэд захын урд тал, титаник дэлгүүрын хажуу талд/ байрладаг. даваа - баасан: 8:30-16:30 цагийн хооронд ажиллах ба бямба, ням: амарна, холбогдох дугаар 1800-1888.')]"
      ]
     },
     "execution_count": 91,
     "metadata": {},
     "output_type": "execute_result"
    }
   ],
   "source": [
    "# vector store-с document хайгч, k параметраар хамгийн ойр утгатай хэдэн document буцаахыг дамжуулна\n",
    "retriever_all_data = vector_store.as_retriever(search_type=\"similarity\", search_kwargs={\"k\": 5})\n",
    "retriever_branch_data = branch_store.as_retriever(search_type=\"similarity\", search_kwargs={\"k\": 5})\n",
    "retriever_product_data = product_store.as_retriever(search_type=\"similarity\", search_kwargs={\"k\": 5})\n",
    "# docs = retriever.invoke(\"хасбанк хэзээ IPO хийсэн бэ\")\n",
    "# docs = retriever.invoke(\"хэрхэн тэтгэлэгт хамрагдах вэ\")\n",
    "retriever_branch_data.invoke(\"сүхбаатар дүүргийн салбарын байршил хаана байдаг вэ\")"
   ]
  },
  {
   "cell_type": "code",
   "execution_count": 92,
   "metadata": {},
   "outputs": [
    {
     "data": {
      "text/plain": [
       "[Document(metadata={'source': 'https://www.xacbank.mn/product/36', 'row': 16, 'id': '36', 'side_menu_text': 'ирээдүйн саятан /хүүхдийн хадгаламж/\\r\\nдансны доод үлдэгдэл 20,000₮\\r\\nзарласан хүү 11.0%\\r\\nбодит хүү 11.57%', 'link': 'https://www.xacbank.mn/product/36'}, page_content='өхцөл\\r\\nвалютын төрөл\\r\\nдоод үлдэгдэл\\r\\nхугацаа\\r\\nжилийн хүү\\r\\nзарласан хүү\\r\\nбодит хүү\\r\\nгэрээ цуцлах хүү\\r\\nтөгрөг\\r\\n20,000 төгрөг\\r\\nхүүхдийн 18 насны төрсөн өдөр хүртэл\\r\\n11.0%\\r\\n11.57%\\r\\n2.40%\\r\\nданс нээхэд\\r\\nхураамжгүй\\r\\nгэрээний хугацаанаас өмнө гэрээ цуцлах хураамж\\r\\n3,000₮\\r\\nбусад шимтгэл, хураамж\\r\\nүйлчилгээний төрөл\\r\\nшимтгэлийн хувь хэмжээ\\r\\n(мөнгөн тэмдэгтийн төрөл)\\r\\nmnt\\r\\nорлогын гүйлгээ\\r\\nбэлэн бус орлого\\r\\nшимтгэлгүй\\r\\nбэлэн орлого\\r\\nшимтгэлгүй\\r\\nтодорхойлолт *\\r\\n5,000₮\\r\\nхуулга\\r\\nцахим шуудангаар илгээхэд\\r\\nшим'),\n",
       " Document(metadata={'source': 'https://www.xacbank.mn/product/71', 'row': 38, 'id': '71', 'side_menu_text': 'хугацаатай хадгаламж\\r\\nзарласан хүү (төгрөг) 9.0%-12.0%\\r\\nбодит хүү (төгрөг) 9.38%-12.68%', 'link': 'https://www.xacbank.mn/product/71'}, page_content='иен\\r\\n30,000\\r\\nзарласан\\r\\n1.00%\\r\\n-\\r\\n-\\r\\n-\\r\\n-\\r\\n-\\r\\n0.50%\\r\\nбодит1\\r\\n1.00%\\r\\n-\\r\\n-\\r\\n-\\r\\n-\\r\\n-\\r\\nданс нээхэд\\r\\nхураамжгүй\\r\\nгэрээний хугацаанаас өмнө гэрээ цуцлах хураамж\\r\\n3,000₮\\r\\n1\\r\\n- бодит хүү гэдэг нь хүүнээс хүү тооцсоноор таны хадгаламж 1 жилийн дараа бодитоор хэдэн хувь өсөхийг харуулах ба аравны нарийвчлалтай болно.\\r\\n2\\r\\n- санхүүгийн тогтвортой харилцаа үүсгэсэн харилцагчийн хугацаатай хадгаламжийн хүүг 1.5 хувь хүртэл нэмэгдүүлэн тохирох боломжтой.\\r\\n3\\r\\n- хадгаламжийн үлдэгдэл 10,000,001 доллараас дээш тох'),\n",
       " Document(metadata={'source': 'https://www.xacbank.mn/product/8', 'row': 6, 'id': '8', 'side_menu_text': 'хугацаагүй хадгаламж:\\r\\nдансны доод үлдэгдэл 10,000₮\\r\\nзарласан хүү : төгрөг: 3.60%-4.80%, гадаад валют: 0.8%-1.0%\\r\\nбодит хүү : төгрөг: 3.66%-4.91%, гадаад валют: 0.8%-1.0%', 'link': 'https://www.xacbank.mn/product/8'}, page_content='00%\\r\\n0.1\\r\\n0.2\\r\\nевро\\r\\n10\\r\\n1.00%\\r\\n1.00%\\r\\n0.1\\r\\n0.2\\r\\nюань\\r\\n50\\r\\n0.80%\\r\\n0.80%\\r\\n0.5\\r\\n1\\r\\nиень\\r\\n1,000,000\\r\\n1.00%\\r\\n1.00%\\r\\n10\\r\\n20\\r\\nданс нээх хураамж\\r\\nхураамжгүй\\r\\nданс хаасны шимтгэл\\r\\n3,000 төгрөг\\r\\n* бодит хүү гэдэг нь хүүнээс хүү тооцсоноор таны хадгаламж 1 жилийн дараа бодитоор хэдэн хувь өсөхийг харуулна.\\r\\n** идэвхгүй дансны ангилалд шилжсэн тохиолдолд хамаарна.\\r\\n*** хасбанктай санхүүгийн тогтвортой харилцаа үүсгэсэн харилцагчийн хугацаагүй хадгаламжийн жилийн хүүг 6.0 хувь хүртэл тохирох боломжтой.\\r\\nбус'),\n",
       " Document(metadata={'source': 'https://www.xacbank.mn/product/9', 'row': 7, 'id': '9', 'side_menu_text': 'хугацаатай хадгаламж\\r\\nдансны доод үлдэгдэл : 20,000₮\\r\\nзарласан хүү : 9.0% - 12.0%\\r\\nбодит хүү: 9.38% - 12.68%', 'link': 'https://www.xacbank.mn/product/9'}, page_content='зарласан\\r\\n1.20%\\r\\n4\\r\\n1.40%\\r\\n4\\r\\n1.60%\\r\\n4\\r\\n1.80%\\r\\nбодит\\r\\n1\\r\\n1.21%\\r\\n1.41%\\r\\n1.61%\\r\\n1.81%\\r\\nданс нээхэд : хураамжгүй\\r\\nхадгаламжийн дэвтэр: үнэгүй\\r\\nгэрээний хугацаанаас өмнө гэрээ цуцлах хураамж 3,000₮\\r\\n1 - бодит хүү гэдэг нь хүүнээс хүү тооцсоноор таны хадгаламж 1 жилийн дараа бодитоор хэдэн хувь өсөхийг харуулах ба аравны нарийвчлалтай болно.\\r\\n2 - санхүүгийн тогтвортой харилцаа үүсгэсэн харилцагчийн хугацаатай хадгаламжийн хүүг 1.5 хувь хүртэл нэмэгдүүлэн тохирох боломжтой.\\r\\n3 - хадгаламжийн үлдэгдэл'),\n",
       " Document(metadata={'source': 'https://www.xacbank.mn/product/36', 'row': 16, 'id': '36', 'side_menu_text': 'ирээдүйн саятан /хүүхдийн хадгаламж/\\r\\nдансны доод үлдэгдэл 20,000₮\\r\\nзарласан хүү 11.0%\\r\\nбодит хүү 11.57%', 'link': 'https://www.xacbank.mn/product/36'}, page_content='content: ирээдүйн саятан /хүүхдийн хадгаламж/\\r\\nхарилцагч та 0-16 насны хүүхэддээ зориулан урт хугацаанд хуримтлал үүсгэн ирээдүйг нь баталгаажуулахыг хүсч байгаа бол бидний монголд анхдагч болгон нэвтрүүлсэн хүүхдэд зориулсан хадгаламжийн брэнд бүтээгдэхүүн болох “ирээдүйн саятан”-г сонгоорой.\\r\\nдавуу тал\\r\\nхүүг нийлмэл аргаар буюу хүүнээс хүү боддог;\\r\\nхүүхдийн мөнгийг сар бүр хадгаламжийн дансандаа хүлээн авах;\\r\\nхадгаламжаа барьцаалан зээл авч богино хугацааны санхүүгийн хэрэгцээгээ шийдвэрлэх бо')]"
      ]
     },
     "execution_count": 92,
     "metadata": {},
     "output_type": "execute_result"
    }
   ],
   "source": [
    "retriever_product_data.invoke(\"Харилцах дансны жилийн хүү хэд вэ?\")"
   ]
  },
  {
   "cell_type": "markdown",
   "metadata": {},
   "source": [
    "Vector Store үүсгэсэн бол түүнээс ойролцоо утгатай өгөгдөл хайж үзье.\n",
    "\n",
    "![retriever](https://python.langchain.com/assets/images/retriever_concept-1093f15a8f63ddb90bd23decbd249ea5.png)"
   ]
  },
  {
   "cell_type": "code",
   "execution_count": 93,
   "metadata": {},
   "outputs": [
    {
     "data": {
      "text/plain": [
       "[Document(metadata={'source': 'https://www.xacbank.mn/article/514', 'row': 371, 'title': 'гүйцэтгэх захирлын илгээлт', 'date': '2015.05.11', 'link': 'https://www.xacbank.mn/article/514'}, page_content='гч байгууллагуудад туслалцаа үзүүлэв.бид санхүүгийн боловсролыг нийгэм, олон нийтэд түгээх замаар банкны бүтээгдэхүүн, үйлчилгээгээ таниулж ирсэн хандивын хөтөлбөрүүдээ үргэлжлүүллээ. өнөөдрийн байдлаар улаанбаатар, хөдөө орон нутгийн 38,140 хүүхэд, багш болон сайн дурын ажилтнууд хөтөлбөрт хамрагдан ач тусыг нь хүртээд байна.банкны зээлийн бодлогоор харилцагчийн үнэлгээг нийгэм, байгаль орчны чиглэлийн хууль тогтоомж, шаардлагуудад нийцэж байгаа эсэхээс хамааруулан тодорхойлж, хяналт мониторинг'),\n",
       " Document(metadata={'source': 'https://www.xacbank.mn/article/477', 'row': 409, 'title': 'таны хүүхдийн баталгаат ирээдүй – ирээдүйн саятан хадгаламж', 'date': '2014.05.29', 'link': 'https://www.xacbank.mn/article/477'}, page_content='охион байгуулагдах ирээдүйн саятан хадгаламж эзэмшигчдэд зориулсан урамшуулалт аянд оролцох боломжтой;хүссэн хүүхдэд ирээдүйн саятан хадгаламжийг нээлгэн бэлэглэх боломжтой;эмээ, эсвэл өвөө нь эцэг эхийнх нь өмнөөс ач, зээдээ мөнгө хадгалах боломжтой байдаг.хүүхдийнхээ дансанд сар бүр тогтмол орлого хийх нь танд хүндрэлтэй санагдвал захиалгат гүйлгээг ашиглах боломжтой. таныг хуримтлалтай болоход тань туслах олон төрлийн үйлчилгээ банкинд байдгийн нэг нь захиалгат гүйлгээ юм. захиалгат гүйлгээ н'),\n",
       " Document(metadata={'source': 'https://www.xacbank.mn/product/117', 'row': 60, 'id': '117', 'side_menu_text': 'ждб эрхлэгчдэд зориулсан сургалт\\r\\nсургалт, уулзалтын хүсэлт илгээх', 'link': 'https://www.xacbank.mn/product/117'}, page_content='ктай хамтран ажиллаж буй төсөл хөтөлбөрүүдийн сургалт /экспортыг дэмжих, бизнесийн зөвлөх үйлчилгээ, хамтарсан санхүүжилт гэх мэт/.'),\n",
       " Document(metadata={'source': 'https://www.xacbank.mn/article/nogoon-belcheer-tusul', 'row': 197, 'title': 'хасбанк ногоон бэлчээр төслийг дахин нэг суманд хэрэгжүүлэхэд хамтран ажиллахаар боллоо', 'date': '2019.02.01', 'link': 'https://www.xacbank.mn/article/nogoon-belcheer-tusul'}, page_content='гэлийг хөхиүлэн дэмжиж, улмаармалчдын орлогыг нэмэгдүүлэх нь төслийн гол зорилго нь бөгөөд хасбанкны хувьд шаардлагатай санхүүгийн эх үүсвэрээр хангаж, тодорхой шалгуур хангасан малчин өрхүүдэд хөнгөлөлттэй нөхцөлтэй зээл олгох байдлаар хамтран ажиллана.харин төсөл хэрэгжүүлэгч нэгжээс малчин өрхөд санхүүгийн болон мал эмнэлэгийн чиглэлээрх сургалт явуулж, бэлчээр ашиглалт, малын эрүүл мэндийн тогтолцоог сайжруулахын зэрэгцээ малчин өрх, орон нутгийн засаг захиргааны уялдаа холбоог улам бэхжлүүл'),\n",
       " Document(metadata={'source': 'https://www.xacbank.mn/article/297', 'row': 582, 'title': 'б.дэлгэржаргал: хүмүүс зээл аваад эргэж төлдөг юм шүү гэдгийг баталснаараа бахархдаг', 'date': '2011.12.19', 'link': 'https://www.xacbank.mn/article/297'}, page_content='эхлээд хангалттай туршлага байсан. тиймээс орон нутгийн иргэдийн үүсгэл санаачилгаар байгуулагдсан хоршоодыг дэмжье, бие даасан санхүүгийн байгууллага жинхэнэ утгаар нь бий болгоход нь дэмжлэг үзүүлье, үүгээр дамжуулж алслагдсан сумдад байгаа иргэдэд санхүүгийн үйлчилгээний хүртээмжийг нэмэгдүүлье гэсэн үндсэн дээр\\xa0 авахад нь хөгжлийн хөтөч франчайзын үйлчилгээг хэрэгжүүлж эхэлсэн юм. өнөөдрийн байдлаар 60 гаруй ийм хоршоодтой хамтарч ажиллаж байна. ялангуяа алслагдсан сумын иргэдэд энэ ажил ил')]"
      ]
     },
     "execution_count": 93,
     "metadata": {},
     "output_type": "execute_result"
    }
   ],
   "source": [
    "# vector store-с document хайгч, k параметраар хамгийн ойр утгатай хэдэн document буцаахыг дамжуулна\n",
    "retriever = vector_store.as_retriever(search_type=\"similarity\", search_kwargs={\"k\": 5})\n",
    "\n",
    "# docs = retriever.invoke(\"хасбанк хэзээ IPO хийсэн бэ\")\n",
    "# docs = retriever.invoke(\"хэрхэн тэтгэлэгт хамрагдах вэ\")\n",
    "retriever.invoke(\"хэрхэн тэтгэлэгт хамрагдах вэ\")"
   ]
  },
  {
   "cell_type": "markdown",
   "metadata": {},
   "source": [
    "## Өгөгдөл хайх, хариулах\n",
    "\n",
    "Өмнөх хэсэгт өгөгдлөө бэлтгэж, vector store-т хадгалсан бол энэ хэсэгт хэрэглэгчийн асуусан асуултаар vector store-с хайлт хийж, LLM-р хариулт өгөх болно.\n",
    "\n",
    "![](https://miro.medium.com/v2/resize:fit:2000/format:webp/1*8dUBh25peTpsucMpL1ypUg.png)"
   ]
  },
  {
   "cell_type": "markdown",
   "metadata": {},
   "source": [
    "### LLM\n",
    "\n",
    "Хайж олсон мэдээлэл, хэрэглэгчийн асуултад тохирох хариулт үүсгэхийн тулд бичвэр үүсгэгч Large Language Model ашиглана.\n",
    "\n",
    "Энд Meta компанийн сургасан [8 тэрбум параметртай Llama 3.1(https://huggingface.co/meta-llama/Llama-3.1-8B)] загварыг сонгов. (Hugging Face дээр загвар ашиглах зөвшөөрөл хүссэн маягт бөглөх ёстой)\n"
   ]
  },
  {
   "cell_type": "code",
   "execution_count": 84,
   "metadata": {},
   "outputs": [
    {
     "data": {
      "application/vnd.jupyter.widget-view+json": {
       "model_id": "1c2fe8a29c104c5c9b8e9d258c6d2d7d",
       "version_major": 2,
       "version_minor": 0
      },
      "text/plain": [
       "VBox(children=(HTML(value='<center> <img\\nsrc=https://huggingface.co/front/assets/huggingface_logo-noborder.sv…"
      ]
     },
     "metadata": {},
     "output_type": "display_data"
    }
   ],
   "source": [
    "# Hugging Face-с хандах эрх авсан хаалттай загваруудад хандахын тулд нэвтэрсэн байх шаардлагатай\n",
    "# Нэмэлт мэдээллийг https://huggingface.co/docs/huggingface_hub/package_reference/authentication\n",
    "from huggingface_hub import notebook_login\n",
    "\n",
    "notebook_login()"
   ]
  },
  {
   "cell_type": "code",
   "execution_count": 94,
   "metadata": {},
   "outputs": [],
   "source": [
    "import os\n",
    "if not os.environ.get(\"HF_TOKEN\"):\n",
    "    os.environ[\"HF_TOKEN\"]= \"\"\n",
    "if not os.environ.get(\"TOGETHER_API_KEY\"):\n",
    "    os.environ[\"TOGETHER_API_KEY\"] = \"\"\n",
    "os.environ[\"LANGCHAIN_TRACING_V2\"] = \"true\"\n",
    "if not os.environ.get(\"LANGCHAIN_API_KEY\"):\n",
    "    os.environ[\"LANGCHAIN_API_KEY\"] = \"\""
   ]
  },
  {
   "cell_type": "code",
   "execution_count": 95,
   "metadata": {},
   "outputs": [],
   "source": [
    "from langchain_openai import ChatOpenAI\n",
    "\n",
    "llm = ChatOpenAI(\n",
    "    base_url=\"https://api.together.xyz/v1\",\n",
    "    api_key=os.environ[\"TOGETHER_API_KEY\"],\n",
    "    model=\"meta-llama/Meta-Llama-3.1-8B-Instruct-Turbo\",\n",
    ")"
   ]
  },
  {
   "cell_type": "markdown",
   "metadata": {},
   "source": [
    "### Chain: Retrieval -> Prompt -> LLM\n",
    "\n",
    "Prompt-н `{context}`-н оронд хайж олсон мэдээлэл, `{input}`-н оронд хэрэглэгчийн асуусан асуулт орох болно."
   ]
  },
  {
   "cell_type": "code",
   "execution_count": 96,
   "metadata": {},
   "outputs": [],
   "source": [
    "import pandas as pd\n",
    "\n",
    "keywords_df = pd.read_csv(\"../data/classifier.csv\")\n",
    "\n",
    "keyword_dict = {}\n",
    "for _, row in keywords_df.iterrows():\n",
    "    keyword = row['text'].lower().strip()\n",
    "    label = row['label'].strip()\n",
    "\n",
    "    if label not in keyword_dict:\n",
    "        keyword_dict[label] = set()\n",
    "    keyword_dict[label].add(keyword)\n"
   ]
  },
  {
   "cell_type": "code",
   "execution_count": 97,
   "metadata": {},
   "outputs": [],
   "source": [
    "def classify_query(query: str):\n",
    "    query_lower = query.lower()\n",
    "\n",
    "    for label, keywords in keyword_dict.items():\n",
    "        if any(keyword in query_lower for keyword in keywords):\n",
    "            return label\n",
    "\n",
    "    return \"General_Request\"\n"
   ]
  },
  {
   "cell_type": "code",
   "execution_count": 98,
   "metadata": {},
   "outputs": [],
   "source": [
    "from langchain_core.tools import tool\n",
    "\n",
    "@tool(response_format=\"content_and_artifact\")\n",
    "def retrieve(query: str):\n",
    "    \"\"\"Classify the query using keyword matching.\"\"\"\n",
    "    classification = classify_query(query)\n",
    "\n",
    "    if classification == \"branch_Request\":\n",
    "        retrieved_docs = branch_store.similarity_search(query, k=5)\n",
    "    elif classification == \"product_Request\":\n",
    "        retrieved_docs = product_store.similarity_search(query, k=5)\n",
    "    else:\n",
    "        retrieved_docs = vector_store.similarity_search(query, k=5)\n",
    "\n",
    "    # Serialize the results\n",
    "    serialized = \"\\n\\n\".join(\n",
    "        f\"Source: {doc.metadata}\\nContent: {doc.page_content}\"\n",
    "        for doc in retrieved_docs\n",
    "    )\n",
    "    return serialized, retrieved_docs\n"
   ]
  },
  {
   "cell_type": "code",
   "execution_count": null,
   "metadata": {},
   "outputs": [],
   "source": [
    "# from langchain_core.tools import tool\n",
    "# @tool(response_format=\"content_and_artifact\")\n",
    "# def retrieve(query: str):\n",
    "#     \"\"\"choose which store will use\"\"\"\n",
    "#     if \"хаана байрладаг вэ\" in query or \"байршил хаана байдаг вэ\" in query:\n",
    "#         retrieved_docs = branch_store.similarity_search(query, k=5)\n",
    "#         # retrieved_docs = vector_store.similarity_search(query, k=5)\n",
    "#         serialized = \"\\n\\n\".join(\n",
    "#             (f\"Source: {doc.metadata}\\n\" f\"Content: {doc.page_content}\")\n",
    "#             for doc in retrieved_docs\n",
    "#         )\n",
    "#         return serialized, retrieved_docs\n",
    "#     else :\n",
    "#         retrieved_docs = vector_store.similarity_search(query, k=5)\n",
    "#         serialized = \"\\n\\n\".join(\n",
    "#             (f\"Source: {doc.metadata}\\n\" f\"Content: {doc.page_content}\")\n",
    "#             for doc in retrieved_docs\n",
    "#         )\n",
    "#         return serialized, retrieved_docs"
   ]
  },
  {
   "cell_type": "code",
   "execution_count": 99,
   "metadata": {},
   "outputs": [],
   "source": [
    "from langgraph.graph import MessagesState, StateGraph\n",
    "\n",
    "graph_builder = StateGraph(MessagesState)"
   ]
  },
  {
   "cell_type": "code",
   "execution_count": 100,
   "metadata": {},
   "outputs": [],
   "source": [
    "from langchain_core.messages import SystemMessage\n",
    "from langgraph.prebuilt import ToolNode\n",
    "# Step 1: Generate an AIMessage that may include a tool-call to be sent.\n",
    "def query_or_respond(state: MessagesState):\n",
    "    \"\"\"Generate tool call for retrieval or respond.\"\"\"\n",
    "    llm_with_tools = llm.bind_tools([retrieve])\n",
    "    # return state['messages']\n",
    "    response = llm_with_tools.invoke(state[\"messages\"])\n",
    "    # MessagesState appends messages to state instead of overwriting\n",
    "    return {\"messages\": [response]}\n",
    "\n",
    "\n",
    "# Step 2: Execute the retrieval.\n",
    "tools = ToolNode([retrieve])\n",
    "\n",
    "\n",
    "# Step 3: Generate a response using the retrieved content.\n",
    "def generate(state: MessagesState):\n",
    "    \"\"\"Generate answer.\"\"\"\n",
    "    # Get generated ToolMessages\n",
    "    recent_tool_messages = []\n",
    "    for message in reversed(state[\"messages\"]):\n",
    "        if message.type == \"tool\":\n",
    "            recent_tool_messages.append(message)\n",
    "        else:\n",
    "            break\n",
    "    tool_messages = recent_tool_messages[::-1]\n",
    "\n",
    "    # Format into prompt\n",
    "    docs_content = \"\\n\\n\".join(doc.content for doc in tool_messages)\n",
    "    system_message_content = (\n",
    "        \"You are an mongolian assistant for question-answering tasks. \"\n",
    "        \"Use the following pieces of retrieved context to answer \"\n",
    "        \"the question. If you don't know the answer, say that you \"\n",
    "        \"don't know. Use three sentences maximum and keep the \"\n",
    "        \"answer concise, and use mongolian.\"\n",
    "        \"\\n\\n\"\n",
    "        f\"{docs_content}\"\n",
    "    )\n",
    "    conversation_messages = [\n",
    "        message\n",
    "        for message in state[\"messages\"]\n",
    "        if message.type in (\"human\", \"system\")\n",
    "        or (message.type == \"ai\" and not message.tool_calls)\n",
    "    ]\n",
    "    prompt = [SystemMessage(system_message_content)] + conversation_messages\n",
    "\n",
    "    # Run\n",
    "    response = llm.invoke(prompt)\n",
    "    return {\"messages\": [response]}"
   ]
  },
  {
   "cell_type": "code",
   "execution_count": 101,
   "metadata": {},
   "outputs": [],
   "source": [
    "from langgraph.graph import END\n",
    "from langgraph.prebuilt import ToolNode, tools_condition\n",
    "\n",
    "graph_builder.add_node(query_or_respond)\n",
    "graph_builder.add_node(tools)\n",
    "graph_builder.add_node(generate)\n",
    "\n",
    "graph_builder.set_entry_point(\"query_or_respond\")\n",
    "graph_builder.add_conditional_edges(\n",
    "    \"query_or_respond\",\n",
    "    tools_condition,\n",
    "    {END: END, \"tools\": \"tools\"},\n",
    ")\n",
    "graph_builder.add_edge(\"tools\", \"generate\")\n",
    "graph_builder.add_edge(\"generate\", END)\n",
    "\n",
    "graph = graph_builder.compile()"
   ]
  },
  {
   "cell_type": "code",
   "execution_count": 102,
   "metadata": {},
   "outputs": [],
   "source": [
    "from langgraph.checkpoint.memory import MemorySaver\n",
    "\n",
    "memory = MemorySaver()\n",
    "# graph = graph_builder.compile(checkpointer=memory)\n",
    "\n",
    "# Specify an ID for the thread\n",
    "config = {\"configurable\": {\"thread_id\": \"abc123\"}}\n"
   ]
  },
  {
   "cell_type": "code",
   "execution_count": 48,
   "metadata": {
    "scrolled": true
   },
   "outputs": [
    {
     "name": "stdout",
     "output_type": "stream",
     "text": [
      "================================\u001b[1m Human Message \u001b[0m=================================\n",
      "\n",
      "төв салбар хаана байрладаг вэ\n",
      "==================================\u001b[1m Ai Message \u001b[0m==================================\n",
      "Tool Calls:\n",
      "  retrieve (call_cpccobumy2z3cp0gj1elg8a0)\n",
      " Call ID: call_cpccobumy2z3cp0gj1elg8a0\n",
      "  Args:\n",
      "    query: төв салбар хаана байрладаг вэ\n",
      "=================================\u001b[1m Tool Message \u001b[0m=================================\n",
      "Name: retrieve\n",
      "\n",
      "Source: {'source': '../data/branch.txt'}\n",
      "Content: налайх салбар нь налайх дүүрэг, 2-р хороо, дамдины гудамж, хасбанкны байр. даваа - баасан: 8:30-16:30 цагийн хооронд ажиллах ба бямба, ням: амарна, холбогдох дугаар 1800-1888.\n",
      "\n",
      "Source: {'source': '../data/branch.txt'}\n",
      "Content: гранд тооцооны төв нь баянгол дүүрэг, 2-р хороо, энхтайваны өргөн чөлөө-46, \"гранд плаза\" худалдааны төв, b1 давхарт байрладаг. даваа - баасан: 08:30-16:30 цагийн хооронд ажиллах ба бямба, ням: амарна, холбогдох дугаар 1800-1888.\n",
      "\n",
      "Source: {'source': '../data/branch.txt'}\n",
      "Content: нарантуул тооцооны төв нь баянзүрх дүүрэг, 14-р хороо, нарантуул оухт, баялаг ундраа худалдааны төвд байрладаг. даваа - бямба: 9:00-17:00 цагийн хооронд ажиллах ба мягмар, ням: амарна, холбогдох дугаар 1800-1888.\n",
      "\n",
      "Source: {'source': '../data/branch.txt'}\n",
      "Content: баянгол салбар нь баянгол дүүрэг, 13-р хороо, ард аюушийн өргөн чөлөөнд байрлах соло молл худалдааны төвд байрладаг. даваа - баасан: 8:30-16:30 цагийн хооронд ажиллах ба бямба, ням: амарна, холбогдох дугаар 1800-1888.\n",
      "\n",
      "Source: {'source': '../data/branch.txt'}\n",
      "Content: төв салбар нь сүхбаатар дүүрэг, энхтайваны өргөн чөлөө, чингүнжавын гудамж-30-д байрладаг. даваа - баасан: 8:30-16:30 цагийн хооронд ажиллах ба бямба, ням: амарна, холбогдох дугаар 1800-1888.\n",
      "==================================\u001b[1m Ai Message \u001b[0m==================================\n",
      "\n",
      "Төв салбар нь сүхбаатар дүүрэг, энхтайваны өргөн чөлөө, чингүнжавын гудамж-30-д байрладаг.\n"
     ]
    }
   ],
   "source": [
    "input_message = \"төв салбар хаана байрладаг вэ\"\n",
    "\n",
    "for step in graph.stream(\n",
    "    {\"messages\": [{\"role\": \"user\", \"content\": input_message}]},\n",
    "    stream_mode=\"values\",\n",
    "):\n",
    "    step[\"messages\"][-1].pretty_print()"
   ]
  },
  {
   "cell_type": "code",
   "execution_count": 49,
   "metadata": {
    "scrolled": true
   },
   "outputs": [
    {
     "name": "stdout",
     "output_type": "stream",
     "text": [
      "================================\u001b[1m Human Message \u001b[0m=================================\n",
      "\n",
      "Цалингийн зээл нэг сарын хүү хэд вэ?\n",
      "==================================\u001b[1m Ai Message \u001b[0m==================================\n",
      "Tool Calls:\n",
      "  retrieve (call_o19ag1pn7egzxkpyasm8zama)\n",
      " Call ID: call_o19ag1pn7egzxkpyasm8zama\n",
      "  Args:\n",
      "    query: Цалингийн зээл нэг сарын хүү\n",
      "=================================\u001b[1m Tool Message \u001b[0m=================================\n",
      "Name: retrieve\n",
      "\n",
      "Source: {'source': 'https://www.xacbank.mn/product/1', 'row': 1, 'id': '1', 'side_menu_text': 'цалингийн зээл\\r\\nхэмжээ\\r\\nзээлжих чадвараар тодорхойлогдоно\\r\\nхугацаа 30 сар\\r\\nхүү:\\r\\nсарын: 1.5% - 1.9%\\r\\nжилийн: 18.0% - 22.8%', 'link': 'https://www.xacbank.mn/product/1'}\n",
      "Content: үндсэн төлбөр тэнцүү эсхүл сард төлөх нийт төлбөр тэнцүү сонголттой.\n",
      "барьцаа хөрөнгө: таны цалингийн орлого. шаардлагатай тохиолдолд нэмэлт барьцаа хөрөнгө.\n",
      "тавигдах шаардлага: хуулийн этгээдэд 6 сараас доошгүй хугацаанд ажилласан, үндсэн ажилтан байх; зээлийн муу түүхгүй байх.\n",
      "бүрдүүлэх материал:\n",
      "хэрэглээний зээлийн өргөдөл (хасбанкны салбараас эсхүл энд дарж татаж авна уу);\n",
      "3х4 хэмжээний цээж зураг;\n",
      "иргэний үнэмлэх, түүний хуулбар;\n",
      "ажил олгогчийн тодорхойлолт;\n",
      "банкны зүгээс шаардлагата\n",
      "\n",
      "Source: {'source': 'https://www.xacbank.mn/product/4', 'row': 2, 'id': '4', 'side_menu_text': 'өрхийн зээл\\r\\nхэмжээ\\r\\n50 сая төгрөг хүртэл\\r\\nхугацаа\\r\\n30 сар\\r\\nхүү\\r\\nсарын: 2.0%\\r\\nжилийн: 24.0%', 'link': 'https://www.xacbank.mn/product/4'}\n",
      "Content: их гаргадаг баяр ёслол, амралтын үедээ нэг сарын зээлийн үндсэн төлбөрөөс чөлөөлөгдөж, зөвхөн зээлийнхээ хүүг төлөх боломжтой.\n",
      "бүтээгдэхүүнийн нөхцөл\n",
      "хэмжээ\n",
      "хугацаа\n",
      "хүү*\n",
      "үйлчилгээний\n",
      "шимтгэл\n",
      "сарын\n",
      "жилийн 50 сая төгрөг хүртэл\n",
      "30 сар\n",
      "2.0%\n",
      "24.0%\n",
      "1%\n",
      "12 сар хүртэлх хугацаанд зээл авсан тохиолдолд 1 сар хүртэлх хугацаагаар үндсэн төлбөр төлөхгүй байхаар эргэн төлөлтийг хийж болно;\n",
      "зээлдэгч 12 сараас дээш хугацаагаар зээл авсан тохиолдолд 2 сар хүртэлх хугацаагаар үндсэн төлбөр төлөхгүй\n",
      "\n",
      "Source: {'source': 'https://www.xacbank.mn/product/1', 'row': 1, 'id': '1', 'side_menu_text': 'цалингийн зээл\\r\\nхэмжээ\\r\\nзээлжих чадвараар тодорхойлогдоно\\r\\nхугацаа 30 сар\\r\\nхүү:\\r\\nсарын: 1.5% - 1.9%\\r\\nжилийн: 18.0% - 22.8%', 'link': 'https://www.xacbank.mn/product/1'}\n",
      "Content: ,000 төгрөгөөс дээш\n",
      "зээлийн хүү*\n",
      "сарын 1.5%-1.9%, 1.5% - 1.8%\n",
      "жилийн 18.0%-22.8%, 18.0% - 21.6%**\n",
      "зээлийн хугацаа 30 сар\n",
      "үйлчилгээний шимтгэл 0.5%, 1%\n",
      "* - хасбанктай гэрээтэй байгууллагын ажилтан бол гэрээгээр тохирсон хүүг мөрдөнө.\n",
      "** - зээлийн бодит өртөг (жилийн): 18.89%-21.75%\n",
      "зээлийн эргэн төлөлт: зээлийг хүүгийн хамт сар бүр цалингаас суутгана.\n",
      "зээл төлөх хэлбэр: сард төлөх зээлийн үндсэн төлбөр тэнцүү эсхүл сард төлөх нийт төлбөр тэнцүү сонголттой.\n",
      "барьцаа хөрөнгө: таны цалингий\n",
      "\n",
      "Source: {'source': 'https://www.xacbank.mn/product/4', 'row': 2, 'id': '4', 'side_menu_text': 'өрхийн зээл\\r\\nхэмжээ\\r\\n50 сая төгрөг хүртэл\\r\\nхугацаа\\r\\n30 сар\\r\\nхүү\\r\\nсарын: 2.0%\\r\\nжилийн: 24.0%', 'link': 'https://www.xacbank.mn/product/4'}\n",
      "Content: ч 12 сараас дээш хугацаагаар зээл авсан тохиолдолд 2 сар хүртэлх хугацаагаар үндсэн төлбөр төлөхгүй байхаар эргэн төлөлтийг хийж болно.\n",
      "тавигдах шаардлага\n",
      "сүүлийн 6 сарын хугацаанд ажил, бизнес тогтвортой эрхэлсэн байх\n",
      "зээлийн барьцаанд тавих хөдлөх болон үл хөдлөх хөрөнгөтэй байх;\n",
      "зээлийн муу түүхгүй байх.\n",
      "бүрдүүлэх материал\n",
      "хэрэглээний зээлийн өргөдөл (хасбанкны салбараас эсхүл\n",
      "энд дарж\n",
      "татаж авна уу);\n",
      "3х4 хэмжээний цээж зураг;\n",
      "зээл хүсэгч болон өрхийн гишүүдийн иргэний үнэмлэх, түүн\n",
      "\n",
      "Source: {'source': 'https://www.xacbank.mn/product/5', 'row': 3, 'id': '5', 'side_menu_text': 'хэрэглээний худалдан авалтын зээл\\r\\nхэмжээ 50 сая төгрөг хүртэл\\r\\nхугацаа 30 сар\\r\\nхүү : сарын: 2.0%, жилийн: 24.0%', 'link': 'https://www.xacbank.mn/product/5'}\n",
      "Content: төлбөрөө хараахан бүрдүүлж амжаагүй ч нэмэлт барьцаа барьцаалуулан хүссэн худалдан авалтаа 100 хувийн санхүүжилтээр авах боломжтой.\n",
      "бүтээгдэхүүнийн нөхцөл:\n",
      "хэмжээ\n",
      "хугацаа\n",
      "хүү*\n",
      "үйлчилгээний шимтгэл\n",
      "сарын\n",
      "жилийн\n",
      "50 сая төгрөг хүртэл 30 сар 2.0% 24.0% 1%\n",
      "зээлийн бодит өртөг (жилийн): 24.9%\n",
      "тавигдах шаардлага:\n",
      "сүүлийн 6 сарын хугацаанд ажил бизнес тогтвортой эрхэлсэн байх;\n",
      "зээлийн муу түүхгүй байх.\n",
      "бүрдүүлэх материал:\n",
      "худалдан авалтын зээлийн өргөдөл (хасбанкны салбараас эсхүл энд дарж\n",
      "==================================\u001b[1m Ai Message \u001b[0m==================================\n",
      "\n",
      "Сарын хүү 1.5-1.9%, хүндэлбэртэй 1.5-1.8% байна.\n"
     ]
    }
   ],
   "source": [
    "input_message = \"Цалингийн зээл нэг сарын хүү хэд вэ?\"\n",
    "\n",
    "for step in graph.stream(\n",
    "    {\"messages\": [{\"role\": \"user\", \"content\": input_message}]},\n",
    "    stream_mode=\"values\",\n",
    "):\n",
    "    step[\"messages\"][-1].pretty_print()"
   ]
  },
  {
   "cell_type": "code",
   "execution_count": 104,
   "metadata": {
    "scrolled": true
   },
   "outputs": [
    {
     "name": "stdout",
     "output_type": "stream",
     "text": [
      "================================\u001b[1m Human Message \u001b[0m=================================\n",
      "\n",
      "Хас банкны IPO хэзээ зарлагдсан вэ?\n",
      "==================================\u001b[1m Ai Message \u001b[0m==================================\n",
      "Tool Calls:\n",
      "  retrieve (call_ilm9hzu90kobqkuclgupqskd)\n",
      " Call ID: call_ilm9hzu90kobqkuclgupqskd\n",
      "  Args:\n",
      "    query: Хас банкны IPO хэзээ зарлагдсан\n",
      "=================================\u001b[1m Tool Message \u001b[0m=================================\n",
      "Name: retrieve\n",
      "\n",
      "Source: {'source': 'https://www.xacbank.mn/article/ipo-opening', 'row': 73, 'title': 'хасбанкны ipo: нээлтийн арга хэмжээ амжилттай боллоо', 'date': '2023.05.25', 'link': 'https://www.xacbank.mn/article/ipo-opening'}\n",
      "Content: захиалгыг хасбанкны дижитал банк болон үндсэн андеррайтер райнос инвестмент үцк, туслах андеррайтер өлзий энд ко капитал үцк-уудаар өгч болохоос гадна 5-р сарын 29-нд анхдагч арилжаа нээгдмэгц өөрийн бүртгэлтэй аль ч үнэт цаасны компаниар дамжуулан захиалга өгөх боломжтой.мөн хасбанкны ipo-ын талаарх бүхий л мэдээллийг ipo.xacbank.mn веб хуудсаар авч болохын дээр үнэт цаасны данс, захиалгатай холбоотой асуудлаар райнос инвестмент үцк /7510 0575/, өлзий энд ко капитал үцк /7777 6377/-уудтай холб\n",
      "\n",
      "Source: {'source': 'https://www.xacbank.mn/article/ipo-ceo-interview', 'row': 74, 'title': 'г.цэвэгжав: сайн засаглал, олон улсын туршлага, нэр хүндтэй хөрөнгө оруулагчид бидний гол давуу тал', 'date': '2023.05.24', 'link': 'https://www.xacbank.mn/article/ipo-ceo-interview'}\n",
      "Content: емийн банкнуудаас хасбанк өнөөдөр буюу тавдугаар сарын 24-ний өдөр олон нийтэд хувьцаагаа санал болгож, нээлттэй компани болох ажлаа албан ёсоор эхлүүлж байна. манай банкны анхдагч арилжаа тавдугаар сарын 29-өөс зургаадугаар сарын 5-ны 16.00 цаг хүртэл үргэлжилнэ.бид нээлттэй хувьцаат компани болох үйл явцыг нэг том төсөл гэж үзээд, бүх зүйлийг цогц байлгах үүднээс бэлтгэл ажлуудаа хангаад одоо ipo гаргахад бэлэн боллоо. мөн манай хувьцаа эзэмшигчид 2022 оны аудиталсан санхүүгийн тайландаа суури\n",
      "\n",
      "Source: {'source': 'https://www.xacbank.mn/article/dividend-0909', 'row': 6, 'title': '“хасбанк” хк 2024 оны эхний хагас жилийн цэвэр ашгаас 18.9 тэрбум төгрөгийн ногдол ашгийг хувьцаа эзэмшигчдэдээ хуваариллаа', 'date': '2024.09.09', 'link': 'https://www.xacbank.mn/article/dividend-0909'}\n",
      "Content: ол ашиг тараах бодлогыг хэрэгжүүлж байна.эчнээ санал хураалтаар ногдол ашиг авах эрхтэй хувьцаа эзэмшигчдийг тодорхойлох бүртгэлийн өдрийг 2024 оны 08 дугаар сарын 08-ны өдрөөр тогтоосон бөгөөд хувьцаа эзэмшигч та өөрийн үйлчлүүлдэг брокер, дилерийн компанид хандаж, ногдол ашгийн талаарх мэдээлэл авна уу. брокер, дилерийн компаниудын мэдээллийгэнд даржавна уу.хөрөнгө оруулагч та бүхэнд баярлалаа.холбоо барих:утас: +(976)-8508-1888цахим шуудангийн хаяг:investor-relations@xacbank.mnажиллах цагийн\n",
      "\n",
      "Source: {'source': 'https://www.xacbank.mn/article/ipo-plan-submitted', 'row': 130, 'title': 'хасбанк хувьцаагаа олон нийтэд нээлттэй санал болгох ажлаа эхлүүлэхэд бэлэн боллоо', 'date': '2021.08.18', 'link': 'https://www.xacbank.mn/article/ipo-plan-submitted'}\n",
      "Content: үзсэнээ 2021 оны 8-р сарын 13-ны өдөр албан бичгээр мэдэгдлээ. ингэснээр хасбанкийг нээлттэй хувьцаат компани хэлбэрээр өөрчлөн байгуулах үйл ажиллагаа төлөвлөгөөний дагуу хэрэгжих боломжтой болж, гүйцэтгэх ажилдаа орж байна.хасбанкны хувьцааг анх удаа олон нийтэд арилжаалах үйл ажиллагаанд үнэт цаас, санхүүгийн салбарын шилдэг туршлагатай нэр бүхий зөвлөх компаниуд хамтран ажиллах бөгөөд хасбанкны хувьцааг ил тод, нээлттэйгээр шууд эзэмших боломжийг иргэн, аан бүрд эрх тэгш олгохын төлөө хичээ\n",
      "\n",
      "Source: {'source': 'https://www.xacbank.mn/article/ipo-plan-submitted', 'row': 130, 'title': 'хасбанк хувьцаагаа олон нийтэд нээлттэй санал болгох ажлаа эхлүүлэхэд бэлэн боллоо', 'date': '2021.08.18', 'link': 'https://www.xacbank.mn/article/ipo-plan-submitted'}\n",
      "Content: content: хасбанк хувьцаагаа олон нийтэд нээлттэй санал болгох ажлаа эхлүүлэхэд бэлэн боллообанкны тухай хуульд орсон нэмэлт, өөрчлөлтийн дагуу хасбанк нээлттэй хувьцаат компани болох төлөвлөгөөгөө монголбанк болон санхүүгийн зохицуулах хороонд 2021 оны 6-р сарын 29-ний өдөр хүргүүлсэн бөгөөд зохицуулагч байгууллагуудаас хасбанкны төлөвлөгөөг хэрэгжих боломжтой, тайлбар, судалгаа үндэслэлтэй хэмээн үзсэнээ 2021 оны 8-р сарын 13-ны өдөр албан бичгээр мэдэгдлээ. ингэснээр хасбанкийг нээлттэй хувьца\n",
      "==================================\u001b[1m Ai Message \u001b[0m==================================\n",
      "\n",
      "Хасбанкны IPO 2023 оны 5-р сарын 24-нд нээлттэй компани болох ажлаа албан ёсоор эхлүүлсэн бөгөөд анхдагч арилжаа 2023 оны 5-р сарын 29-нтэй зургаадугаар сарын 5-ны 16.00 цаг хүртэл үргэлжилсэн байна.\n"
     ]
    }
   ],
   "source": [
    "input_message = \"Хас банкны IPO хэзээ зарлагдсан вэ?\"\n",
    "\n",
    "for step in graph.stream(\n",
    "    {\"messages\": [{\"role\": \"user\", \"content\": input_message}]},\n",
    "    stream_mode=\"values\",\n",
    "):\n",
    "    step[\"messages\"][-1].pretty_print()"
   ]
  }
 ],
 "metadata": {
  "kernelspec": {
   "display_name": "Python 3 (ipykernel)",
   "language": "python",
   "name": "python3"
  },
  "language_info": {
   "codemirror_mode": {
    "name": "ipython",
    "version": 3
   },
   "file_extension": ".py",
   "mimetype": "text/x-python",
   "name": "python",
   "nbconvert_exporter": "python",
   "pygments_lexer": "ipython3",
   "version": "3.10.12"
  }
 },
 "nbformat": 4,
 "nbformat_minor": 4
}
